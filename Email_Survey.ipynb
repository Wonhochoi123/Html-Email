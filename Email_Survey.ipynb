{
  "cells": [
    {
      "cell_type": "markdown",
      "metadata": {
        "id": "view-in-github",
        "colab_type": "text"
      },
      "source": [
        "<a href=\"https://colab.research.google.com/github/Wonhochoi123/Html-Email/blob/main/Email_Survey.ipynb\" target=\"_parent\"><img src=\"https://colab.research.google.com/assets/colab-badge.svg\" alt=\"Open In Colab\"/></a>"
      ]
    },
    {
      "cell_type": "code",
      "execution_count": null,
      "id": "729ae5b1-76b9-4009-8039-a49ccaf99d0f",
      "metadata": {
        "id": "729ae5b1-76b9-4009-8039-a49ccaf99d0f"
      },
      "outputs": [],
      "source": [
        ""
      ]
    },
    {
      "cell_type": "code",
      "execution_count": null,
      "id": "cae37d51-03bd-47d2-a095-71cd5dc1e2c8",
      "metadata": {
        "id": "cae37d51-03bd-47d2-a095-71cd5dc1e2c8"
      },
      "outputs": [],
      "source": [
        "import smtplib, ssl\n",
        "import datetime\n",
        "import pytz\n",
        "from email.mime.text import MIMEText\n",
        "from email.mime.image     import MIMEImage\n",
        "from email.mime.multipart import MIMEMultipart \n",
        "from email.header import Header\n",
        "from email.utils import formataddr\n",
        "\n",
        "def send_email(to, name, site):\n",
        "    url=f'https://docs.google.com/forms/d/e/1FAIpQLSfv4VzWPicDErTJiRMr8OT7Pg--Kqlpa4M6cEp6txNGNlRadQ/viewform?usp=pp_url&entry.98843674={to}&entry.1129174551={name.replace(\" \", \"%20\")}&entry.391219303={site.replace(\" \", \"%20\")}'\n",
        "\n",
        "\n",
        "\n",
        "    \n",
        "    EMAIL_ADDRESS=EMAIL_ADDRESS\n",
        "    EMAIL_PASSWORD=EMAIL_PASSWORD   \n",
        "    time=datetime.datetime.now(pytz.timezone('PST8PDT'))\n",
        "    Body=''\n",
        "    bod_g_m = \"Good morning, \"\n",
        "    bod_g_a = \"Good afternoon, \"\n",
        "    hr_now=time.strftime(\"%H\")\n",
        "    if int(hr_now)<12:\n",
        "        Body=bod_g_m+name+'. \\n\\n'\n",
        "    elif int(hr_now)>=12:\n",
        "        Body=bod_g_a+name+'. \\n\\n'\n",
        "    \n",
        "    logo=\"\"\"<table border=\"0\" cellpadding=\"0\" cellspacing=\"0\" style=\"min-width:100%;width:100%;background:#ffffff;background-color:#ffffff\" bgcolor=\"#ffffff\" align=\"left\" valign=\"top\" role=\"presentation\">\n",
        "\n",
        "\n",
        "<tbody><tr><td>\n",
        "  \n",
        "  <table border=\"0\" cellpadding=\"0\" cellspacing=\"0\" style=\"min-width:600px;width:600px;max-width:600px;margin:0 auto\" align=\"center\" valign=\"top\" role=\"presentation\">\n",
        " \n",
        "<tbody><tr><td dir=\"ltr\" style=\"padding:0px 16px\">\n",
        "  \n",
        "        <img src=\"https://raw.githubusercontent.com/Wonhochoi123/Business-profile-/main/Premier-Ladscaping-Logo-Client%20survey.jpg\" width=\"700\" alt=\"Premier Landscaping Survey\" vspace=\"20\" align=\"left\" class=\"CToWUd\">\n",
        "  \n",
        "   \n",
        "</td></tr></tbody></table> \n",
        "</td></tr></tbody></table>\"\"\"\n",
        "\n",
        "    Body_in=\"\"\"<div style=\"font-size:32px;font-weight:500;line-height:40px;margin:32px 16px 40px 16px;font:'Segoe UI'\">\n",
        "     Client Care Survey\n",
        "  </div>\"\"\"\n",
        "\n",
        "    style=\"font:'Segoe UI';color:#444444;font-size:14px;font-weight:500;line-height:24px;margin:0 auto;padding:0;max-width:600px\"\n",
        "\n",
        "    style_b=\"\"\"style=\"margin:0 16px 32px 16px;font-size:22px;font-weight:500;line-height:24px;font:'Segoe UI'\" \"\"\"\n",
        "            \n",
        "    Body2=f\"\"\"<p><a href={url} style=\" margin:0 16px 32px 16px; background-color: #166bda; font-size: 36px; font-family: Helvetica, Arial, sans-serif; font-weight: bold; text-decoration: none; padding: 28px 40px; color: #ffffff; border-radius: 10px; display: inline-block; mso-padding-alt: 0;\" >\n",
        "    <!--[if mso]>\n",
        "    <i style=\"letter-spacing: 50px; mso-font-width: -100%; mso-text-raise: 60pt;\">&nbsp;</i>\n",
        "    <![endif]-->\n",
        "    <span style=\"mso-text-raise: 30pt;\">Click to Start Your Survey</span>\n",
        "    <!--[if mso]>\n",
        "    <i style=\"letter-spacing: 50px; mso-font-width: -100%;\">&nbsp;</i>\n",
        "    <![endif]-->\n",
        "    </a>\"\"\"\n",
        "\n",
        "    if site==None:\n",
        "      site=\"\"\n",
        "    else:\n",
        "      site=\": \"+site\n",
        "\n",
        "    Body1=f\"\"\"<p {style_b}>{Body}</p><p {style_b}>This is a quick review email on behalf of <span {style_b[:-2]+';color:#0D3A1D\"'}><b>Kurt Hunte at Premier Landscaping.</b></span></p><p {style_b}>Please let us know how we did on our recent visit to your property{site}.</p>\n",
        "    <p {style_b}>\\n\\nThis will help us to serve you better!</p>{Body2}\\n<p {style_b};\"color:#1F7F4C;\">Please feel free to let us know how we can improve, and we will take actions <span {style_b[:-2]+';color:#0D3A1D\"'}><b>IMMEDIATELY.</b></span></p>\\n<p {style_b}>Thank you.</p>\n",
        "    <p {style_b}>\\n\\nNote: This email was sent from an <strong>unmonitored address</strong>. Please <strong>do not response</strong> to this message.</p>\"\"\"\n",
        "\n",
        "    Vok=\"\"\"<div><img width=\"623\" height=\"114\" style=\"width:6.4916in;height:1.1916in\" id=\"m_8007618776936348383Picture_x0020_5\" src=\"https://raw.githubusercontent.com/Wonhochoi123/Business-profile-/main/Wonho%20Logo.png\" data-image-whitelisted=\"\" class=\"CToWUd a6T\" </div>\"\"\"\n",
        "\n",
        "    box=f\"\"\"<tr><td style=\"border-top:1px solid #bdbdbd;padding-top:48px;padding-right:16px;padding-bottom:8px;padding-left:0px\" align=\"center\">\n",
        "       <table role=\"presentation\" cellpadding=\"0\" cellspacing=\"0\" border=\"0\" width=\"100%\" style=\"min-width:100%\" align=\"center\" background-color=\"#fafafa\">\n",
        "      <tbody><tr><td style=\"padding-top:0px;padding-right:40px;padding-bottom:16px;padding-left:0px;font-family:Roboto,'Segoe UI','Helvetica Neue',Frutiger,'Frutiger Linotype','Dejavu Sans','Trebuchet MS',Verdana,Arial,sans-serif\">\n",
        "       \n",
        "        <div style=\"margin:0 16px 0 16px;font-size:14px;font-weight:500;line-height:21px;padding-bottom:4px\">{Vok}</div>\n",
        "        \n",
        "        </td></tr>\"\"\"\n",
        "    \n",
        "    \n",
        "    \n",
        "    msg = MIMEMultipart('related')\n",
        "    msg['Subject'] =f'Client Care Survey for {name} (Week-{time.isocalendar()[1]})'\n",
        "    msg['From']=  formataddr((str(Header(\"Premier Client-Care \", 'utf-8')), EMAIL_ADDRESS))\n",
        "\n",
        "    msg['To']=to\n",
        "    \n",
        "    \n",
        "    \n",
        "\n",
        "\n",
        "    # write the HTML part \n",
        "    html = f\"\"\"<html> <body><p>{logo}</p><center><table border=\"0\" cellpadding=\"0\" cellspacing=\"0\" style=\"min-width:600px;width:600px;max-width:600px;margin:0 auto\" align=\"center\" valign=\"top\" role=\"presentation\">\n",
        "    <tbody><tr><td dir=\"ltr\" valign=\"top\"><br><p stype={style}>{Body1}</p>{box}</table></center></body></html>\"\"\"\n",
        "    # convert both parts to MIMEText objects and add them to the MIMEMultipart message \n",
        "\n",
        "    part1 = MIMEText(html, \"html\") \n",
        "    msg.attach(part1)\n",
        "    \n",
        "    \n",
        "\n",
        "\n",
        "    with smtplib.SMTP('smtp.outlook.com',587) as smtp:\n",
        "        smtp.ehlo()\n",
        "        smtp.starttls()\n",
        "        smtp.ehlo()\n",
        "  \n",
        "\n",
        "        smtp.login(EMAIL_ADDRESS,EMAIL_PASSWORD)\n",
        "        smtp.sendmail( EMAIL_ADDRESS, to, msg.as_string() )\n",
        "        smtp.quit()\n",
        "\n",
        "    print(f\"{name} at {site}, email: {to} successfully sent\")\n"
      ]
    },
    {
      "cell_type": "code",
      "source": [
        ""
      ],
      "metadata": {
        "colab": {
          "base_uri": "https://localhost:8080/",
          "height": 34
        },
        "id": "QtbOB-2YlCC0",
        "outputId": "f640f7e9-5f1b-4c70-a1ba-a1549d346f9e"
      },
      "id": "QtbOB-2YlCC0",
      "execution_count": null,
      "outputs": [
        {
          "output_type": "execute_result",
          "data": {
            "application/vnd.google.colaboratory.intrinsic+json": {
              "type": "string"
            },
            "text/plain": [
              "'https://docs.google.com/forms/d/e/1FAIpQLSfv4VzWPicDErTJiRMr8OT7Pg--Kqlpa4M6cEp6txNGNlRadQ/viewform?usp=pp_url&entry.98843674=to&entry.1129174551=name&entry.391219303=site'"
            ]
          },
          "metadata": {},
          "execution_count": 19
        }
      ]
    },
    {
      "cell_type": "markdown",
      "source": [
        ""
      ],
      "metadata": {
        "id": "T29Iecocmcub"
      },
      "id": "T29Iecocmcub"
    },
    {
      "cell_type": "code",
      "source": [
        ""
      ],
      "metadata": {
        "id": "ZfzIlbqPQRnY"
      },
      "id": "ZfzIlbqPQRnY",
      "execution_count": null,
      "outputs": []
    },
    {
      "cell_type": "code",
      "source": [
        ""
      ],
      "metadata": {
        "id": "loWbrt_B6dH5",
        "colab": {
          "base_uri": "https://localhost:8080/"
        },
        "outputId": "34d59d22-27e6-4a16-e601-0fc46a7b94b8"
      },
      "id": "loWbrt_B6dH5",
      "execution_count": null,
      "outputs": [
        {
          "output_type": "execute_result",
          "data": {
            "text/plain": [
              "4"
            ]
          },
          "metadata": {},
          "execution_count": 60
        }
      ]
    },
    {
      "cell_type": "code",
      "source": [
        ""
      ],
      "metadata": {
        "id": "0YuZAtg9aao4"
      },
      "id": "0YuZAtg9aao4",
      "execution_count": null,
      "outputs": []
    }
  ],
  "metadata": {
    "kernelspec": {
      "display_name": "Python 3 (ipykernel)",
      "language": "python",
      "name": "python3"
    },
    "language_info": {
      "codemirror_mode": {
        "name": "ipython",
        "version": 3
      },
      "file_extension": ".py",
      "mimetype": "text/x-python",
      "name": "python",
      "nbconvert_exporter": "python",
      "pygments_lexer": "ipython3",
      "version": "3.9.7"
    },
    "colab": {
      "name": "Email-Survey.ipynb",
      "provenance": [],
      "include_colab_link": true
    }
  },
  "nbformat": 4,
  "nbformat_minor": 5
}